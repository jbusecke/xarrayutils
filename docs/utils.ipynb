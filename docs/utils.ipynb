{
 "cells": [
  {
   "cell_type": "markdown",
   "metadata": {},
   "source": [
    "# Utilities for large scale climate data analysis\n",
    "The `xarrayutils.utils` module contains several functions that have proven useful in several of my day to day projects with both observational and model data."
   ]
  },
  {
   "cell_type": "markdown",
   "metadata": {},
   "source": [
    "## Linear regression\n",
    "One of the operations many scientists do is calculating a linear trend along a specified dimension (e.g. time) on each grid point of a dataset. `linear_trend` makes this very easy. For demonstration purposes lets load some monthly gridded Argo data from [APDRC](http://apdrc.soest.hawaii.edu/dods/public_data/Argo_Products/monthly_mean/monthly_mixed_layer.info)"
   ]
  },
  {
   "cell_type": "code",
   "execution_count": 1,
   "metadata": {},
   "outputs": [],
   "source": [
    "import xarray as xr\n",
    "import numpy as np\n",
    "\n",
    "%matplotlib inline"
   ]
  },
  {
   "cell_type": "code",
   "execution_count": 2,
   "metadata": {},
   "outputs": [
    {
     "data": {
      "text/html": [
       "<div><svg style=\"position: absolute; width: 0; height: 0; overflow: hidden\">\n",
       "<defs>\n",
       "<symbol id=\"icon-database\" viewBox=\"0 0 32 32\">\n",
       "<path d=\"M16 0c-8.837 0-16 2.239-16 5v4c0 2.761 7.163 5 16 5s16-2.239 16-5v-4c0-2.761-7.163-5-16-5z\"></path>\n",
       "<path d=\"M16 17c-8.837 0-16-2.239-16-5v6c0 2.761 7.163 5 16 5s16-2.239 16-5v-6c0 2.761-7.163 5-16 5z\"></path>\n",
       "<path d=\"M16 26c-8.837 0-16-2.239-16-5v6c0 2.761 7.163 5 16 5s16-2.239 16-5v-6c0 2.761-7.163 5-16 5z\"></path>\n",
       "</symbol>\n",
       "<symbol id=\"icon-file-text2\" viewBox=\"0 0 32 32\">\n",
       "<path d=\"M28.681 7.159c-0.694-0.947-1.662-2.053-2.724-3.116s-2.169-2.030-3.116-2.724c-1.612-1.182-2.393-1.319-2.841-1.319h-15.5c-1.378 0-2.5 1.121-2.5 2.5v27c0 1.378 1.122 2.5 2.5 2.5h23c1.378 0 2.5-1.122 2.5-2.5v-19.5c0-0.448-0.137-1.23-1.319-2.841zM24.543 5.457c0.959 0.959 1.712 1.825 2.268 2.543h-4.811v-4.811c0.718 0.556 1.584 1.309 2.543 2.268zM28 29.5c0 0.271-0.229 0.5-0.5 0.5h-23c-0.271 0-0.5-0.229-0.5-0.5v-27c0-0.271 0.229-0.5 0.5-0.5 0 0 15.499-0 15.5 0v7c0 0.552 0.448 1 1 1h7v19.5z\"></path>\n",
       "<path d=\"M23 26h-14c-0.552 0-1-0.448-1-1s0.448-1 1-1h14c0.552 0 1 0.448 1 1s-0.448 1-1 1z\"></path>\n",
       "<path d=\"M23 22h-14c-0.552 0-1-0.448-1-1s0.448-1 1-1h14c0.552 0 1 0.448 1 1s-0.448 1-1 1z\"></path>\n",
       "<path d=\"M23 18h-14c-0.552 0-1-0.448-1-1s0.448-1 1-1h14c0.552 0 1 0.448 1 1s-0.448 1-1 1z\"></path>\n",
       "</symbol>\n",
       "</defs>\n",
       "</svg>\n",
       "<style>/* CSS stylesheet for displaying xarray objects in jupyterlab.\n",
       " *\n",
       " */\n",
       "\n",
       ":root {\n",
       "  --xr-font-color0: var(--jp-content-font-color0, rgba(0, 0, 0, 1));\n",
       "  --xr-font-color2: var(--jp-content-font-color2, rgba(0, 0, 0, 0.54));\n",
       "  --xr-font-color3: var(--jp-content-font-color3, rgba(0, 0, 0, 0.38));\n",
       "  --xr-border-color: var(--jp-border-color2, #e0e0e0);\n",
       "  --xr-disabled-color: var(--jp-layout-color3, #bdbdbd);\n",
       "  --xr-background-color: var(--jp-layout-color0, white);\n",
       "  --xr-background-color-row-even: var(--jp-layout-color1, white);\n",
       "  --xr-background-color-row-odd: var(--jp-layout-color2, #eeeeee);\n",
       "}\n",
       "\n",
       "html[theme=dark],\n",
       "body.vscode-dark {\n",
       "  --xr-font-color0: rgba(255, 255, 255, 1);\n",
       "  --xr-font-color2: rgba(255, 255, 255, 0.54);\n",
       "  --xr-font-color3: rgba(255, 255, 255, 0.38);\n",
       "  --xr-border-color: #1F1F1F;\n",
       "  --xr-disabled-color: #515151;\n",
       "  --xr-background-color: #111111;\n",
       "  --xr-background-color-row-even: #111111;\n",
       "  --xr-background-color-row-odd: #313131;\n",
       "}\n",
       "\n",
       ".xr-wrap {\n",
       "  display: block;\n",
       "  min-width: 300px;\n",
       "  max-width: 700px;\n",
       "}\n",
       "\n",
       ".xr-text-repr-fallback {\n",
       "  /* fallback to plain text repr when CSS is not injected (untrusted notebook) */\n",
       "  display: none;\n",
       "}\n",
       "\n",
       ".xr-header {\n",
       "  padding-top: 6px;\n",
       "  padding-bottom: 6px;\n",
       "  margin-bottom: 4px;\n",
       "  border-bottom: solid 1px var(--xr-border-color);\n",
       "}\n",
       "\n",
       ".xr-header > div,\n",
       ".xr-header > ul {\n",
       "  display: inline;\n",
       "  margin-top: 0;\n",
       "  margin-bottom: 0;\n",
       "}\n",
       "\n",
       ".xr-obj-type,\n",
       ".xr-array-name {\n",
       "  margin-left: 2px;\n",
       "  margin-right: 10px;\n",
       "}\n",
       "\n",
       ".xr-obj-type {\n",
       "  color: var(--xr-font-color2);\n",
       "}\n",
       "\n",
       ".xr-sections {\n",
       "  padding-left: 0 !important;\n",
       "  display: grid;\n",
       "  grid-template-columns: 150px auto auto 1fr 20px 20px;\n",
       "}\n",
       "\n",
       ".xr-section-item {\n",
       "  display: contents;\n",
       "}\n",
       "\n",
       ".xr-section-item input {\n",
       "  display: none;\n",
       "}\n",
       "\n",
       ".xr-section-item input + label {\n",
       "  color: var(--xr-disabled-color);\n",
       "}\n",
       "\n",
       ".xr-section-item input:enabled + label {\n",
       "  cursor: pointer;\n",
       "  color: var(--xr-font-color2);\n",
       "}\n",
       "\n",
       ".xr-section-item input:enabled + label:hover {\n",
       "  color: var(--xr-font-color0);\n",
       "}\n",
       "\n",
       ".xr-section-summary {\n",
       "  grid-column: 1;\n",
       "  color: var(--xr-font-color2);\n",
       "  font-weight: 500;\n",
       "}\n",
       "\n",
       ".xr-section-summary > span {\n",
       "  display: inline-block;\n",
       "  padding-left: 0.5em;\n",
       "}\n",
       "\n",
       ".xr-section-summary-in:disabled + label {\n",
       "  color: var(--xr-font-color2);\n",
       "}\n",
       "\n",
       ".xr-section-summary-in + label:before {\n",
       "  display: inline-block;\n",
       "  content: '►';\n",
       "  font-size: 11px;\n",
       "  width: 15px;\n",
       "  text-align: center;\n",
       "}\n",
       "\n",
       ".xr-section-summary-in:disabled + label:before {\n",
       "  color: var(--xr-disabled-color);\n",
       "}\n",
       "\n",
       ".xr-section-summary-in:checked + label:before {\n",
       "  content: '▼';\n",
       "}\n",
       "\n",
       ".xr-section-summary-in:checked + label > span {\n",
       "  display: none;\n",
       "}\n",
       "\n",
       ".xr-section-summary,\n",
       ".xr-section-inline-details {\n",
       "  padding-top: 4px;\n",
       "  padding-bottom: 4px;\n",
       "}\n",
       "\n",
       ".xr-section-inline-details {\n",
       "  grid-column: 2 / -1;\n",
       "}\n",
       "\n",
       ".xr-section-details {\n",
       "  display: none;\n",
       "  grid-column: 1 / -1;\n",
       "  margin-bottom: 5px;\n",
       "}\n",
       "\n",
       ".xr-section-summary-in:checked ~ .xr-section-details {\n",
       "  display: contents;\n",
       "}\n",
       "\n",
       ".xr-array-wrap {\n",
       "  grid-column: 1 / -1;\n",
       "  display: grid;\n",
       "  grid-template-columns: 20px auto;\n",
       "}\n",
       "\n",
       ".xr-array-wrap > label {\n",
       "  grid-column: 1;\n",
       "  vertical-align: top;\n",
       "}\n",
       "\n",
       ".xr-preview {\n",
       "  color: var(--xr-font-color3);\n",
       "}\n",
       "\n",
       ".xr-array-preview,\n",
       ".xr-array-data {\n",
       "  padding: 0 5px !important;\n",
       "  grid-column: 2;\n",
       "}\n",
       "\n",
       ".xr-array-data,\n",
       ".xr-array-in:checked ~ .xr-array-preview {\n",
       "  display: none;\n",
       "}\n",
       "\n",
       ".xr-array-in:checked ~ .xr-array-data,\n",
       ".xr-array-preview {\n",
       "  display: inline-block;\n",
       "}\n",
       "\n",
       ".xr-dim-list {\n",
       "  display: inline-block !important;\n",
       "  list-style: none;\n",
       "  padding: 0 !important;\n",
       "  margin: 0;\n",
       "}\n",
       "\n",
       ".xr-dim-list li {\n",
       "  display: inline-block;\n",
       "  padding: 0;\n",
       "  margin: 0;\n",
       "}\n",
       "\n",
       ".xr-dim-list:before {\n",
       "  content: '(';\n",
       "}\n",
       "\n",
       ".xr-dim-list:after {\n",
       "  content: ')';\n",
       "}\n",
       "\n",
       ".xr-dim-list li:not(:last-child):after {\n",
       "  content: ',';\n",
       "  padding-right: 5px;\n",
       "}\n",
       "\n",
       ".xr-has-index {\n",
       "  font-weight: bold;\n",
       "}\n",
       "\n",
       ".xr-var-list,\n",
       ".xr-var-item {\n",
       "  display: contents;\n",
       "}\n",
       "\n",
       ".xr-var-item > div,\n",
       ".xr-var-item label,\n",
       ".xr-var-item > .xr-var-name span {\n",
       "  background-color: var(--xr-background-color-row-even);\n",
       "  margin-bottom: 0;\n",
       "}\n",
       "\n",
       ".xr-var-item > .xr-var-name:hover span {\n",
       "  padding-right: 5px;\n",
       "}\n",
       "\n",
       ".xr-var-list > li:nth-child(odd) > div,\n",
       ".xr-var-list > li:nth-child(odd) > label,\n",
       ".xr-var-list > li:nth-child(odd) > .xr-var-name span {\n",
       "  background-color: var(--xr-background-color-row-odd);\n",
       "}\n",
       "\n",
       ".xr-var-name {\n",
       "  grid-column: 1;\n",
       "}\n",
       "\n",
       ".xr-var-dims {\n",
       "  grid-column: 2;\n",
       "}\n",
       "\n",
       ".xr-var-dtype {\n",
       "  grid-column: 3;\n",
       "  text-align: right;\n",
       "  color: var(--xr-font-color2);\n",
       "}\n",
       "\n",
       ".xr-var-preview {\n",
       "  grid-column: 4;\n",
       "}\n",
       "\n",
       ".xr-var-name,\n",
       ".xr-var-dims,\n",
       ".xr-var-dtype,\n",
       ".xr-preview,\n",
       ".xr-attrs dt {\n",
       "  white-space: nowrap;\n",
       "  overflow: hidden;\n",
       "  text-overflow: ellipsis;\n",
       "  padding-right: 10px;\n",
       "}\n",
       "\n",
       ".xr-var-name:hover,\n",
       ".xr-var-dims:hover,\n",
       ".xr-var-dtype:hover,\n",
       ".xr-attrs dt:hover {\n",
       "  overflow: visible;\n",
       "  width: auto;\n",
       "  z-index: 1;\n",
       "}\n",
       "\n",
       ".xr-var-attrs,\n",
       ".xr-var-data {\n",
       "  display: none;\n",
       "  background-color: var(--xr-background-color) !important;\n",
       "  padding-bottom: 5px !important;\n",
       "}\n",
       "\n",
       ".xr-var-attrs-in:checked ~ .xr-var-attrs,\n",
       ".xr-var-data-in:checked ~ .xr-var-data {\n",
       "  display: block;\n",
       "}\n",
       "\n",
       ".xr-var-data > table {\n",
       "  float: right;\n",
       "}\n",
       "\n",
       ".xr-var-name span,\n",
       ".xr-var-data,\n",
       ".xr-attrs {\n",
       "  padding-left: 25px !important;\n",
       "}\n",
       "\n",
       ".xr-attrs,\n",
       ".xr-var-attrs,\n",
       ".xr-var-data {\n",
       "  grid-column: 1 / -1;\n",
       "}\n",
       "\n",
       "dl.xr-attrs {\n",
       "  padding: 0;\n",
       "  margin: 0;\n",
       "  display: grid;\n",
       "  grid-template-columns: 125px auto;\n",
       "}\n",
       "\n",
       ".xr-attrs dt,\n",
       ".xr-attrs dd {\n",
       "  padding: 0;\n",
       "  margin: 0;\n",
       "  float: left;\n",
       "  padding-right: 10px;\n",
       "  width: auto;\n",
       "}\n",
       "\n",
       ".xr-attrs dt {\n",
       "  font-weight: normal;\n",
       "  grid-column: 1;\n",
       "}\n",
       "\n",
       ".xr-attrs dt:hover span {\n",
       "  display: inline-block;\n",
       "  background: var(--xr-background-color);\n",
       "  padding-right: 10px;\n",
       "}\n",
       "\n",
       ".xr-attrs dd {\n",
       "  grid-column: 2;\n",
       "  white-space: pre-wrap;\n",
       "  word-break: break-all;\n",
       "}\n",
       "\n",
       ".xr-icon-database,\n",
       ".xr-icon-file-text2 {\n",
       "  display: inline-block;\n",
       "  vertical-align: middle;\n",
       "  width: 1em;\n",
       "  height: 1.5em !important;\n",
       "  stroke-width: 0;\n",
       "  stroke: currentColor;\n",
       "  fill: currentColor;\n",
       "}\n",
       "</style><pre class='xr-text-repr-fallback'>&lt;xarray.Dataset&gt;\n",
       "Dimensions:  (lat: 60, lon: 120, time: 240)\n",
       "Coordinates:\n",
       "  * time     (time) object 2001-01-15 00:00:00 ... 2020-12-15 00:00:00\n",
       "  * lat      (lat) float64 -88.5 -85.5 -82.5 -79.5 -76.5 ... 79.5 82.5 85.5 88.5\n",
       "  * lon      (lon) float64 1.5 4.5 7.5 10.5 13.5 ... 349.5 352.5 355.5 358.5\n",
       "Data variables:\n",
       "    mld      (time, lat, lon) float32 ...\n",
       "    smld     (time, lat, lon) float32 ...\n",
       "    nmld     (time, lat, lon) float32 ...\n",
       "    ild      (time, lat, lon) float32 ...\n",
       "    sild     (time, lat, lon) float32 ...\n",
       "    nild     (time, lat, lon) float32 ...\n",
       "    ttd      (time, lat, lon) float32 ...\n",
       "    sttd     (time, lat, lon) float32 ...\n",
       "    nttd     (time, lat, lon) float32 ...\n",
       "    blt      (time, lat, lon) float32 ...\n",
       "    sblt     (time, lat, lon) float32 ...\n",
       "    nblt     (time, lat, lon) float32 ...\n",
       "    tid      (time, lat, lon) float32 ...\n",
       "    stid     (time, lat, lon) float32 ...\n",
       "    ntid     (time, lat, lon) float32 ...\n",
       "    mlt      (time, lat, lon) float32 ...\n",
       "    smlt     (time, lat, lon) float32 ...\n",
       "    nmlt     (time, lat, lon) float32 ...\n",
       "    mls      (time, lat, lon) float32 ...\n",
       "    smls     (time, lat, lon) float32 ...\n",
       "    nmls     (time, lat, lon) float32 ...\n",
       "Attributes:\n",
       "    title:          3x3 bin-averaged Mixed Layer Monthly mean (from 2001)\n",
       "    Conventions:    COARDS\\nGrADS\n",
       "    dataType:       Grid\n",
       "    documentation:  http://apdrc.soest.hawaii.edu/projects/Argo/index.html\n",
       "    history:        Wed Jan 06 09:40:44 HST 2021 : imported by GrADS Data Ser...</pre><div class='xr-wrap' hidden><div class='xr-header'><div class='xr-obj-type'>xarray.Dataset</div></div><ul class='xr-sections'><li class='xr-section-item'><input id='section-d5592f40-f49d-4591-af17-7366833400c7' class='xr-section-summary-in' type='checkbox' disabled ><label for='section-d5592f40-f49d-4591-af17-7366833400c7' class='xr-section-summary'  title='Expand/collapse section'>Dimensions:</label><div class='xr-section-inline-details'><ul class='xr-dim-list'><li><span class='xr-has-index'>lat</span>: 60</li><li><span class='xr-has-index'>lon</span>: 120</li><li><span class='xr-has-index'>time</span>: 240</li></ul></div><div class='xr-section-details'></div></li><li class='xr-section-item'><input id='section-bb7de620-6291-43f4-a3db-a6db3048bd8f' class='xr-section-summary-in' type='checkbox'  checked><label for='section-bb7de620-6291-43f4-a3db-a6db3048bd8f' class='xr-section-summary' >Coordinates: <span>(3)</span></label><div class='xr-section-inline-details'></div><div class='xr-section-details'><ul class='xr-var-list'><li class='xr-var-item'><div class='xr-var-name'><span class='xr-has-index'>time</span></div><div class='xr-var-dims'>(time)</div><div class='xr-var-dtype'>object</div><div class='xr-var-preview xr-preview'>2001-01-15 00:00:00 ... 2020-12-...</div><input id='attrs-7f7dac1a-051a-44ab-9749-cd5a97a514f2' class='xr-var-attrs-in' type='checkbox' ><label for='attrs-7f7dac1a-051a-44ab-9749-cd5a97a514f2' title='Show/Hide attributes'><svg class='icon xr-icon-file-text2'><use xlink:href='#icon-file-text2'></use></svg></label><input id='data-dae4dcb0-3a15-4821-a6c3-58b9cbc117f8' class='xr-var-data-in' type='checkbox'><label for='data-dae4dcb0-3a15-4821-a6c3-58b9cbc117f8' title='Show/Hide data repr'><svg class='icon xr-icon-database'><use xlink:href='#icon-database'></use></svg></label><div class='xr-var-attrs'><dl class='xr-attrs'><dt><span>grads_dim :</span></dt><dd>t</dd><dt><span>grads_mapping :</span></dt><dd>linear</dd><dt><span>grads_size :</span></dt><dd>240</dd><dt><span>grads_min :</span></dt><dd>00z15jan2001</dd><dt><span>grads_step :</span></dt><dd>1mo</dd><dt><span>long_name :</span></dt><dd>time</dd><dt><span>minimum :</span></dt><dd>00z15jan2001</dd><dt><span>maximum :</span></dt><dd>00z15dec2020</dd><dt><span>resolution :</span></dt><dd>30.435146</dd></dl></div><div class='xr-var-data'><pre>array([cftime.DatetimeGregorian(2001, 1, 15, 0, 0, 0, 0),\n",
       "       cftime.DatetimeGregorian(2001, 2, 15, 0, 0, 0, 0),\n",
       "       cftime.DatetimeGregorian(2001, 3, 15, 0, 0, 0, 0), ...,\n",
       "       cftime.DatetimeGregorian(2020, 10, 15, 0, 0, 0, 0),\n",
       "       cftime.DatetimeGregorian(2020, 11, 15, 0, 0, 0, 0),\n",
       "       cftime.DatetimeGregorian(2020, 12, 15, 0, 0, 0, 0)], dtype=object)</pre></div></li><li class='xr-var-item'><div class='xr-var-name'><span class='xr-has-index'>lat</span></div><div class='xr-var-dims'>(lat)</div><div class='xr-var-dtype'>float64</div><div class='xr-var-preview xr-preview'>-88.5 -85.5 -82.5 ... 85.5 88.5</div><input id='attrs-9f1a7fae-418f-4d42-8a24-03fdd7275ded' class='xr-var-attrs-in' type='checkbox' ><label for='attrs-9f1a7fae-418f-4d42-8a24-03fdd7275ded' title='Show/Hide attributes'><svg class='icon xr-icon-file-text2'><use xlink:href='#icon-file-text2'></use></svg></label><input id='data-ebf77623-6e43-449e-acb6-c623fc0d47e9' class='xr-var-data-in' type='checkbox'><label for='data-ebf77623-6e43-449e-acb6-c623fc0d47e9' title='Show/Hide data repr'><svg class='icon xr-icon-database'><use xlink:href='#icon-database'></use></svg></label><div class='xr-var-attrs'><dl class='xr-attrs'><dt><span>grads_dim :</span></dt><dd>y</dd><dt><span>grads_mapping :</span></dt><dd>linear</dd><dt><span>grads_size :</span></dt><dd>60</dd><dt><span>units :</span></dt><dd>degrees_north</dd><dt><span>long_name :</span></dt><dd>latitude</dd><dt><span>minimum :</span></dt><dd>-88.5</dd><dt><span>maximum :</span></dt><dd>88.5</dd><dt><span>resolution :</span></dt><dd>3.0</dd></dl></div><div class='xr-var-data'><pre>array([-88.5, -85.5, -82.5, -79.5, -76.5, -73.5, -70.5, -67.5, -64.5, -61.5,\n",
       "       -58.5, -55.5, -52.5, -49.5, -46.5, -43.5, -40.5, -37.5, -34.5, -31.5,\n",
       "       -28.5, -25.5, -22.5, -19.5, -16.5, -13.5, -10.5,  -7.5,  -4.5,  -1.5,\n",
       "         1.5,   4.5,   7.5,  10.5,  13.5,  16.5,  19.5,  22.5,  25.5,  28.5,\n",
       "        31.5,  34.5,  37.5,  40.5,  43.5,  46.5,  49.5,  52.5,  55.5,  58.5,\n",
       "        61.5,  64.5,  67.5,  70.5,  73.5,  76.5,  79.5,  82.5,  85.5,  88.5])</pre></div></li><li class='xr-var-item'><div class='xr-var-name'><span class='xr-has-index'>lon</span></div><div class='xr-var-dims'>(lon)</div><div class='xr-var-dtype'>float64</div><div class='xr-var-preview xr-preview'>1.5 4.5 7.5 ... 352.5 355.5 358.5</div><input id='attrs-2665ad68-a238-4c7f-a9dd-73f644e4a1b8' class='xr-var-attrs-in' type='checkbox' ><label for='attrs-2665ad68-a238-4c7f-a9dd-73f644e4a1b8' title='Show/Hide attributes'><svg class='icon xr-icon-file-text2'><use xlink:href='#icon-file-text2'></use></svg></label><input id='data-410f5c9d-5df3-4d66-b2cd-3d726d6f28f7' class='xr-var-data-in' type='checkbox'><label for='data-410f5c9d-5df3-4d66-b2cd-3d726d6f28f7' title='Show/Hide data repr'><svg class='icon xr-icon-database'><use xlink:href='#icon-database'></use></svg></label><div class='xr-var-attrs'><dl class='xr-attrs'><dt><span>grads_dim :</span></dt><dd>x</dd><dt><span>grads_mapping :</span></dt><dd>linear</dd><dt><span>grads_size :</span></dt><dd>120</dd><dt><span>units :</span></dt><dd>degrees_east</dd><dt><span>long_name :</span></dt><dd>longitude</dd><dt><span>minimum :</span></dt><dd>1.5</dd><dt><span>maximum :</span></dt><dd>358.5</dd><dt><span>resolution :</span></dt><dd>3.0</dd></dl></div><div class='xr-var-data'><pre>array([  1.5,   4.5,   7.5,  10.5,  13.5,  16.5,  19.5,  22.5,  25.5,  28.5,\n",
       "        31.5,  34.5,  37.5,  40.5,  43.5,  46.5,  49.5,  52.5,  55.5,  58.5,\n",
       "        61.5,  64.5,  67.5,  70.5,  73.5,  76.5,  79.5,  82.5,  85.5,  88.5,\n",
       "        91.5,  94.5,  97.5, 100.5, 103.5, 106.5, 109.5, 112.5, 115.5, 118.5,\n",
       "       121.5, 124.5, 127.5, 130.5, 133.5, 136.5, 139.5, 142.5, 145.5, 148.5,\n",
       "       151.5, 154.5, 157.5, 160.5, 163.5, 166.5, 169.5, 172.5, 175.5, 178.5,\n",
       "       181.5, 184.5, 187.5, 190.5, 193.5, 196.5, 199.5, 202.5, 205.5, 208.5,\n",
       "       211.5, 214.5, 217.5, 220.5, 223.5, 226.5, 229.5, 232.5, 235.5, 238.5,\n",
       "       241.5, 244.5, 247.5, 250.5, 253.5, 256.5, 259.5, 262.5, 265.5, 268.5,\n",
       "       271.5, 274.5, 277.5, 280.5, 283.5, 286.5, 289.5, 292.5, 295.5, 298.5,\n",
       "       301.5, 304.5, 307.5, 310.5, 313.5, 316.5, 319.5, 322.5, 325.5, 328.5,\n",
       "       331.5, 334.5, 337.5, 340.5, 343.5, 346.5, 349.5, 352.5, 355.5, 358.5])</pre></div></li></ul></div></li><li class='xr-section-item'><input id='section-c30ab8e9-eded-4ebf-8b5f-5180de22246a' class='xr-section-summary-in' type='checkbox'  ><label for='section-c30ab8e9-eded-4ebf-8b5f-5180de22246a' class='xr-section-summary' >Data variables: <span>(21)</span></label><div class='xr-section-inline-details'></div><div class='xr-section-details'><ul class='xr-var-list'><li class='xr-var-item'><div class='xr-var-name'><span>mld</span></div><div class='xr-var-dims'>(time, lat, lon)</div><div class='xr-var-dtype'>float32</div><div class='xr-var-preview xr-preview'>...</div><input id='attrs-e45247ae-1f59-42f7-b90e-862d96596d3b' class='xr-var-attrs-in' type='checkbox' ><label for='attrs-e45247ae-1f59-42f7-b90e-862d96596d3b' title='Show/Hide attributes'><svg class='icon xr-icon-file-text2'><use xlink:href='#icon-file-text2'></use></svg></label><input id='data-735ebc27-9b64-4e06-b728-d365a566cd95' class='xr-var-data-in' type='checkbox'><label for='data-735ebc27-9b64-4e06-b728-d365a566cd95' title='Show/Hide data repr'><svg class='icon xr-icon-database'><use xlink:href='#icon-database'></use></svg></label><div class='xr-var-attrs'><dl class='xr-attrs'><dt><span>long_name :</span></dt><dd>mixed layer depth (m) </dd></dl></div><div class='xr-var-data'><pre>[1728000 values with dtype=float32]</pre></div></li><li class='xr-var-item'><div class='xr-var-name'><span>smld</span></div><div class='xr-var-dims'>(time, lat, lon)</div><div class='xr-var-dtype'>float32</div><div class='xr-var-preview xr-preview'>...</div><input id='attrs-72a8fe55-ce99-4753-a6c5-e59905b11d31' class='xr-var-attrs-in' type='checkbox' ><label for='attrs-72a8fe55-ce99-4753-a6c5-e59905b11d31' title='Show/Hide attributes'><svg class='icon xr-icon-file-text2'><use xlink:href='#icon-file-text2'></use></svg></label><input id='data-3a9a0ceb-9841-422a-a6a2-17db7a31f847' class='xr-var-data-in' type='checkbox'><label for='data-3a9a0ceb-9841-422a-a6a2-17db7a31f847' title='Show/Hide data repr'><svg class='icon xr-icon-database'><use xlink:href='#icon-database'></use></svg></label><div class='xr-var-attrs'><dl class='xr-attrs'><dt><span>long_name :</span></dt><dd>standard mixed layer depth deviation (m) </dd></dl></div><div class='xr-var-data'><pre>[1728000 values with dtype=float32]</pre></div></li><li class='xr-var-item'><div class='xr-var-name'><span>nmld</span></div><div class='xr-var-dims'>(time, lat, lon)</div><div class='xr-var-dtype'>float32</div><div class='xr-var-preview xr-preview'>...</div><input id='attrs-17630011-bfe8-4b6e-8e9d-33114ebd651f' class='xr-var-attrs-in' type='checkbox' ><label for='attrs-17630011-bfe8-4b6e-8e9d-33114ebd651f' title='Show/Hide attributes'><svg class='icon xr-icon-file-text2'><use xlink:href='#icon-file-text2'></use></svg></label><input id='data-a5f21d32-36ac-4fdc-8532-a0305b307e9b' class='xr-var-data-in' type='checkbox'><label for='data-a5f21d32-36ac-4fdc-8532-a0305b307e9b' title='Show/Hide data repr'><svg class='icon xr-icon-database'><use xlink:href='#icon-database'></use></svg></label><div class='xr-var-attrs'><dl class='xr-attrs'><dt><span>long_name :</span></dt><dd>number of mixed layer depth profiles </dd></dl></div><div class='xr-var-data'><pre>[1728000 values with dtype=float32]</pre></div></li><li class='xr-var-item'><div class='xr-var-name'><span>ild</span></div><div class='xr-var-dims'>(time, lat, lon)</div><div class='xr-var-dtype'>float32</div><div class='xr-var-preview xr-preview'>...</div><input id='attrs-900446da-c6bf-4f0d-8f93-c154b1837afe' class='xr-var-attrs-in' type='checkbox' ><label for='attrs-900446da-c6bf-4f0d-8f93-c154b1837afe' title='Show/Hide attributes'><svg class='icon xr-icon-file-text2'><use xlink:href='#icon-file-text2'></use></svg></label><input id='data-62c09b17-6f74-4f8c-99cd-7604fc8c4713' class='xr-var-data-in' type='checkbox'><label for='data-62c09b17-6f74-4f8c-99cd-7604fc8c4713' title='Show/Hide data repr'><svg class='icon xr-icon-database'><use xlink:href='#icon-database'></use></svg></label><div class='xr-var-attrs'><dl class='xr-attrs'><dt><span>long_name :</span></dt><dd>isothermal layer depth (m) </dd></dl></div><div class='xr-var-data'><pre>[1728000 values with dtype=float32]</pre></div></li><li class='xr-var-item'><div class='xr-var-name'><span>sild</span></div><div class='xr-var-dims'>(time, lat, lon)</div><div class='xr-var-dtype'>float32</div><div class='xr-var-preview xr-preview'>...</div><input id='attrs-33472447-f0b6-4af8-84ef-e964f940fd51' class='xr-var-attrs-in' type='checkbox' ><label for='attrs-33472447-f0b6-4af8-84ef-e964f940fd51' title='Show/Hide attributes'><svg class='icon xr-icon-file-text2'><use xlink:href='#icon-file-text2'></use></svg></label><input id='data-03f5ac78-c94c-4fc5-90f9-229d54c6cfe3' class='xr-var-data-in' type='checkbox'><label for='data-03f5ac78-c94c-4fc5-90f9-229d54c6cfe3' title='Show/Hide data repr'><svg class='icon xr-icon-database'><use xlink:href='#icon-database'></use></svg></label><div class='xr-var-attrs'><dl class='xr-attrs'><dt><span>long_name :</span></dt><dd>standard isothermal layer depth deviation (m) </dd></dl></div><div class='xr-var-data'><pre>[1728000 values with dtype=float32]</pre></div></li><li class='xr-var-item'><div class='xr-var-name'><span>nild</span></div><div class='xr-var-dims'>(time, lat, lon)</div><div class='xr-var-dtype'>float32</div><div class='xr-var-preview xr-preview'>...</div><input id='attrs-9a1c0eb5-b56a-48c5-96b2-f628091ef4d3' class='xr-var-attrs-in' type='checkbox' ><label for='attrs-9a1c0eb5-b56a-48c5-96b2-f628091ef4d3' title='Show/Hide attributes'><svg class='icon xr-icon-file-text2'><use xlink:href='#icon-file-text2'></use></svg></label><input id='data-30155c5c-4aa3-4a8f-9d08-14f9037652f1' class='xr-var-data-in' type='checkbox'><label for='data-30155c5c-4aa3-4a8f-9d08-14f9037652f1' title='Show/Hide data repr'><svg class='icon xr-icon-database'><use xlink:href='#icon-database'></use></svg></label><div class='xr-var-attrs'><dl class='xr-attrs'><dt><span>long_name :</span></dt><dd>number of isothermal layer depth profiles </dd></dl></div><div class='xr-var-data'><pre>[1728000 values with dtype=float32]</pre></div></li><li class='xr-var-item'><div class='xr-var-name'><span>ttd</span></div><div class='xr-var-dims'>(time, lat, lon)</div><div class='xr-var-dtype'>float32</div><div class='xr-var-preview xr-preview'>...</div><input id='attrs-a635440c-1a6d-4a24-b28c-63b284df4c99' class='xr-var-attrs-in' type='checkbox' ><label for='attrs-a635440c-1a6d-4a24-b28c-63b284df4c99' title='Show/Hide attributes'><svg class='icon xr-icon-file-text2'><use xlink:href='#icon-file-text2'></use></svg></label><input id='data-3703e8b0-0ef8-40ef-ab94-db39ca369e4a' class='xr-var-data-in' type='checkbox'><label for='data-3703e8b0-0ef8-40ef-ab94-db39ca369e4a' title='Show/Hide data repr'><svg class='icon xr-icon-database'><use xlink:href='#icon-database'></use></svg></label><div class='xr-var-attrs'><dl class='xr-attrs'><dt><span>long_name :</span></dt><dd>top of the thermocline depth (m) </dd></dl></div><div class='xr-var-data'><pre>[1728000 values with dtype=float32]</pre></div></li><li class='xr-var-item'><div class='xr-var-name'><span>sttd</span></div><div class='xr-var-dims'>(time, lat, lon)</div><div class='xr-var-dtype'>float32</div><div class='xr-var-preview xr-preview'>...</div><input id='attrs-8a1165b9-8c27-4b6c-b8d6-ef2a3976ed70' class='xr-var-attrs-in' type='checkbox' ><label for='attrs-8a1165b9-8c27-4b6c-b8d6-ef2a3976ed70' title='Show/Hide attributes'><svg class='icon xr-icon-file-text2'><use xlink:href='#icon-file-text2'></use></svg></label><input id='data-4388d636-b804-47ff-85f6-5211517b77d1' class='xr-var-data-in' type='checkbox'><label for='data-4388d636-b804-47ff-85f6-5211517b77d1' title='Show/Hide data repr'><svg class='icon xr-icon-database'><use xlink:href='#icon-database'></use></svg></label><div class='xr-var-attrs'><dl class='xr-attrs'><dt><span>long_name :</span></dt><dd>standard top of the thermocline depth deviation (m) </dd></dl></div><div class='xr-var-data'><pre>[1728000 values with dtype=float32]</pre></div></li><li class='xr-var-item'><div class='xr-var-name'><span>nttd</span></div><div class='xr-var-dims'>(time, lat, lon)</div><div class='xr-var-dtype'>float32</div><div class='xr-var-preview xr-preview'>...</div><input id='attrs-32133f04-aa65-4062-a2f5-0202862582b2' class='xr-var-attrs-in' type='checkbox' ><label for='attrs-32133f04-aa65-4062-a2f5-0202862582b2' title='Show/Hide attributes'><svg class='icon xr-icon-file-text2'><use xlink:href='#icon-file-text2'></use></svg></label><input id='data-6a1ce2ba-b9af-42b3-b1d1-40835e2756b4' class='xr-var-data-in' type='checkbox'><label for='data-6a1ce2ba-b9af-42b3-b1d1-40835e2756b4' title='Show/Hide data repr'><svg class='icon xr-icon-database'><use xlink:href='#icon-database'></use></svg></label><div class='xr-var-attrs'><dl class='xr-attrs'><dt><span>long_name :</span></dt><dd>number of top of the thermocline depth profiles </dd></dl></div><div class='xr-var-data'><pre>[1728000 values with dtype=float32]</pre></div></li><li class='xr-var-item'><div class='xr-var-name'><span>blt</span></div><div class='xr-var-dims'>(time, lat, lon)</div><div class='xr-var-dtype'>float32</div><div class='xr-var-preview xr-preview'>...</div><input id='attrs-47494fe5-8eef-4785-8b14-bd0787da56df' class='xr-var-attrs-in' type='checkbox' ><label for='attrs-47494fe5-8eef-4785-8b14-bd0787da56df' title='Show/Hide attributes'><svg class='icon xr-icon-file-text2'><use xlink:href='#icon-file-text2'></use></svg></label><input id='data-dcf6f845-b170-4ad0-a09e-aa79ad28d44e' class='xr-var-data-in' type='checkbox'><label for='data-dcf6f845-b170-4ad0-a09e-aa79ad28d44e' title='Show/Hide data repr'><svg class='icon xr-icon-database'><use xlink:href='#icon-database'></use></svg></label><div class='xr-var-attrs'><dl class='xr-attrs'><dt><span>long_name :</span></dt><dd>(&gt;0) barrier or (&lt;0) compensated layer thickness (ttd - mld) (m) </dd></dl></div><div class='xr-var-data'><pre>[1728000 values with dtype=float32]</pre></div></li><li class='xr-var-item'><div class='xr-var-name'><span>sblt</span></div><div class='xr-var-dims'>(time, lat, lon)</div><div class='xr-var-dtype'>float32</div><div class='xr-var-preview xr-preview'>...</div><input id='attrs-8d22be06-196a-4cfb-a072-80f526a00303' class='xr-var-attrs-in' type='checkbox' ><label for='attrs-8d22be06-196a-4cfb-a072-80f526a00303' title='Show/Hide attributes'><svg class='icon xr-icon-file-text2'><use xlink:href='#icon-file-text2'></use></svg></label><input id='data-9f5ff535-939d-40cb-9d92-8a1c3c8c560c' class='xr-var-data-in' type='checkbox'><label for='data-9f5ff535-939d-40cb-9d92-8a1c3c8c560c' title='Show/Hide data repr'><svg class='icon xr-icon-database'><use xlink:href='#icon-database'></use></svg></label><div class='xr-var-attrs'><dl class='xr-attrs'><dt><span>long_name :</span></dt><dd>standard barrier or compensated layer thickness deviation (m) </dd></dl></div><div class='xr-var-data'><pre>[1728000 values with dtype=float32]</pre></div></li><li class='xr-var-item'><div class='xr-var-name'><span>nblt</span></div><div class='xr-var-dims'>(time, lat, lon)</div><div class='xr-var-dtype'>float32</div><div class='xr-var-preview xr-preview'>...</div><input id='attrs-b62a99ad-79b5-4a16-a58f-cf66a75f221c' class='xr-var-attrs-in' type='checkbox' ><label for='attrs-b62a99ad-79b5-4a16-a58f-cf66a75f221c' title='Show/Hide attributes'><svg class='icon xr-icon-file-text2'><use xlink:href='#icon-file-text2'></use></svg></label><input id='data-9390222f-479e-46e7-8fe9-83f9d12a5559' class='xr-var-data-in' type='checkbox'><label for='data-9390222f-479e-46e7-8fe9-83f9d12a5559' title='Show/Hide data repr'><svg class='icon xr-icon-database'><use xlink:href='#icon-database'></use></svg></label><div class='xr-var-attrs'><dl class='xr-attrs'><dt><span>long_name :</span></dt><dd>number of barrier or compensated layer-2 thickness profiles </dd></dl></div><div class='xr-var-data'><pre>[1728000 values with dtype=float32]</pre></div></li><li class='xr-var-item'><div class='xr-var-name'><span>tid</span></div><div class='xr-var-dims'>(time, lat, lon)</div><div class='xr-var-dtype'>float32</div><div class='xr-var-preview xr-preview'>...</div><input id='attrs-883b1133-dc1e-4ea0-bf70-52cf8b53c02e' class='xr-var-attrs-in' type='checkbox' ><label for='attrs-883b1133-dc1e-4ea0-bf70-52cf8b53c02e' title='Show/Hide attributes'><svg class='icon xr-icon-file-text2'><use xlink:href='#icon-file-text2'></use></svg></label><input id='data-c43db5de-f349-49fc-9203-d7fb3206d03f' class='xr-var-data-in' type='checkbox'><label for='data-c43db5de-f349-49fc-9203-d7fb3206d03f' title='Show/Hide data repr'><svg class='icon xr-icon-database'><use xlink:href='#icon-database'></use></svg></label><div class='xr-var-attrs'><dl class='xr-attrs'><dt><span>long_name :</span></dt><dd>temperature inversion depth (m) </dd></dl></div><div class='xr-var-data'><pre>[1728000 values with dtype=float32]</pre></div></li><li class='xr-var-item'><div class='xr-var-name'><span>stid</span></div><div class='xr-var-dims'>(time, lat, lon)</div><div class='xr-var-dtype'>float32</div><div class='xr-var-preview xr-preview'>...</div><input id='attrs-374ef459-7d93-4b36-8dca-f29d1be0746e' class='xr-var-attrs-in' type='checkbox' ><label for='attrs-374ef459-7d93-4b36-8dca-f29d1be0746e' title='Show/Hide attributes'><svg class='icon xr-icon-file-text2'><use xlink:href='#icon-file-text2'></use></svg></label><input id='data-ddca3e91-9f59-4b0b-9c4e-1b77c0bbbf81' class='xr-var-data-in' type='checkbox'><label for='data-ddca3e91-9f59-4b0b-9c4e-1b77c0bbbf81' title='Show/Hide data repr'><svg class='icon xr-icon-database'><use xlink:href='#icon-database'></use></svg></label><div class='xr-var-attrs'><dl class='xr-attrs'><dt><span>long_name :</span></dt><dd>standard temperature inversion depth deviation (m) </dd></dl></div><div class='xr-var-data'><pre>[1728000 values with dtype=float32]</pre></div></li><li class='xr-var-item'><div class='xr-var-name'><span>ntid</span></div><div class='xr-var-dims'>(time, lat, lon)</div><div class='xr-var-dtype'>float32</div><div class='xr-var-preview xr-preview'>...</div><input id='attrs-a2d632ef-5280-428e-9a61-0cfa7042eec0' class='xr-var-attrs-in' type='checkbox' ><label for='attrs-a2d632ef-5280-428e-9a61-0cfa7042eec0' title='Show/Hide attributes'><svg class='icon xr-icon-file-text2'><use xlink:href='#icon-file-text2'></use></svg></label><input id='data-cad34859-14ac-4904-a5da-166361f8c1ea' class='xr-var-data-in' type='checkbox'><label for='data-cad34859-14ac-4904-a5da-166361f8c1ea' title='Show/Hide data repr'><svg class='icon xr-icon-database'><use xlink:href='#icon-database'></use></svg></label><div class='xr-var-attrs'><dl class='xr-attrs'><dt><span>long_name :</span></dt><dd>number of temperature inversion depth profiles </dd></dl></div><div class='xr-var-data'><pre>[1728000 values with dtype=float32]</pre></div></li><li class='xr-var-item'><div class='xr-var-name'><span>mlt</span></div><div class='xr-var-dims'>(time, lat, lon)</div><div class='xr-var-dtype'>float32</div><div class='xr-var-preview xr-preview'>...</div><input id='attrs-da872c12-603f-472e-8df7-eb11ff75c246' class='xr-var-attrs-in' type='checkbox' ><label for='attrs-da872c12-603f-472e-8df7-eb11ff75c246' title='Show/Hide attributes'><svg class='icon xr-icon-file-text2'><use xlink:href='#icon-file-text2'></use></svg></label><input id='data-d0df73da-e988-4b87-8e97-851965df0696' class='xr-var-data-in' type='checkbox'><label for='data-d0df73da-e988-4b87-8e97-851965df0696' title='Show/Hide data repr'><svg class='icon xr-icon-database'><use xlink:href='#icon-database'></use></svg></label><div class='xr-var-attrs'><dl class='xr-attrs'><dt><span>long_name :</span></dt><dd>mixed layer temperature (degc) </dd></dl></div><div class='xr-var-data'><pre>[1728000 values with dtype=float32]</pre></div></li><li class='xr-var-item'><div class='xr-var-name'><span>smlt</span></div><div class='xr-var-dims'>(time, lat, lon)</div><div class='xr-var-dtype'>float32</div><div class='xr-var-preview xr-preview'>...</div><input id='attrs-ea70dcf4-25fb-4d6c-8065-26c42e74da5c' class='xr-var-attrs-in' type='checkbox' ><label for='attrs-ea70dcf4-25fb-4d6c-8065-26c42e74da5c' title='Show/Hide attributes'><svg class='icon xr-icon-file-text2'><use xlink:href='#icon-file-text2'></use></svg></label><input id='data-c6f2df97-0098-4d34-9126-1d172f58e870' class='xr-var-data-in' type='checkbox'><label for='data-c6f2df97-0098-4d34-9126-1d172f58e870' title='Show/Hide data repr'><svg class='icon xr-icon-database'><use xlink:href='#icon-database'></use></svg></label><div class='xr-var-attrs'><dl class='xr-attrs'><dt><span>long_name :</span></dt><dd>standard mixed layer temperature deviation (degc) </dd></dl></div><div class='xr-var-data'><pre>[1728000 values with dtype=float32]</pre></div></li><li class='xr-var-item'><div class='xr-var-name'><span>nmlt</span></div><div class='xr-var-dims'>(time, lat, lon)</div><div class='xr-var-dtype'>float32</div><div class='xr-var-preview xr-preview'>...</div><input id='attrs-0988b95f-67c2-49f3-9cb7-2edcf5189c95' class='xr-var-attrs-in' type='checkbox' ><label for='attrs-0988b95f-67c2-49f3-9cb7-2edcf5189c95' title='Show/Hide attributes'><svg class='icon xr-icon-file-text2'><use xlink:href='#icon-file-text2'></use></svg></label><input id='data-db4f3095-c9d7-40a7-bf72-550903b99b01' class='xr-var-data-in' type='checkbox'><label for='data-db4f3095-c9d7-40a7-bf72-550903b99b01' title='Show/Hide data repr'><svg class='icon xr-icon-database'><use xlink:href='#icon-database'></use></svg></label><div class='xr-var-attrs'><dl class='xr-attrs'><dt><span>long_name :</span></dt><dd>number of mixed layer temperature profiles </dd></dl></div><div class='xr-var-data'><pre>[1728000 values with dtype=float32]</pre></div></li><li class='xr-var-item'><div class='xr-var-name'><span>mls</span></div><div class='xr-var-dims'>(time, lat, lon)</div><div class='xr-var-dtype'>float32</div><div class='xr-var-preview xr-preview'>...</div><input id='attrs-58829d52-db8c-4748-89d5-f302207ee33b' class='xr-var-attrs-in' type='checkbox' ><label for='attrs-58829d52-db8c-4748-89d5-f302207ee33b' title='Show/Hide attributes'><svg class='icon xr-icon-file-text2'><use xlink:href='#icon-file-text2'></use></svg></label><input id='data-af1bb8e9-eac5-49ed-9b7d-a49f2720d9a0' class='xr-var-data-in' type='checkbox'><label for='data-af1bb8e9-eac5-49ed-9b7d-a49f2720d9a0' title='Show/Hide data repr'><svg class='icon xr-icon-database'><use xlink:href='#icon-database'></use></svg></label><div class='xr-var-attrs'><dl class='xr-attrs'><dt><span>long_name :</span></dt><dd>mixed layer salinity (psu) </dd></dl></div><div class='xr-var-data'><pre>[1728000 values with dtype=float32]</pre></div></li><li class='xr-var-item'><div class='xr-var-name'><span>smls</span></div><div class='xr-var-dims'>(time, lat, lon)</div><div class='xr-var-dtype'>float32</div><div class='xr-var-preview xr-preview'>...</div><input id='attrs-e6481991-8e8c-4a82-b901-6cbabc887844' class='xr-var-attrs-in' type='checkbox' ><label for='attrs-e6481991-8e8c-4a82-b901-6cbabc887844' title='Show/Hide attributes'><svg class='icon xr-icon-file-text2'><use xlink:href='#icon-file-text2'></use></svg></label><input id='data-bfcfeeca-684a-4bd1-af00-34cfe31fc300' class='xr-var-data-in' type='checkbox'><label for='data-bfcfeeca-684a-4bd1-af00-34cfe31fc300' title='Show/Hide data repr'><svg class='icon xr-icon-database'><use xlink:href='#icon-database'></use></svg></label><div class='xr-var-attrs'><dl class='xr-attrs'><dt><span>long_name :</span></dt><dd>standard mixed layer salinity deviation (psu) </dd></dl></div><div class='xr-var-data'><pre>[1728000 values with dtype=float32]</pre></div></li><li class='xr-var-item'><div class='xr-var-name'><span>nmls</span></div><div class='xr-var-dims'>(time, lat, lon)</div><div class='xr-var-dtype'>float32</div><div class='xr-var-preview xr-preview'>...</div><input id='attrs-ec95c7af-c54b-477f-8536-d41e138e97b0' class='xr-var-attrs-in' type='checkbox' ><label for='attrs-ec95c7af-c54b-477f-8536-d41e138e97b0' title='Show/Hide attributes'><svg class='icon xr-icon-file-text2'><use xlink:href='#icon-file-text2'></use></svg></label><input id='data-c741636e-f38a-448d-9cef-2d965660fc50' class='xr-var-data-in' type='checkbox'><label for='data-c741636e-f38a-448d-9cef-2d965660fc50' title='Show/Hide data repr'><svg class='icon xr-icon-database'><use xlink:href='#icon-database'></use></svg></label><div class='xr-var-attrs'><dl class='xr-attrs'><dt><span>long_name :</span></dt><dd>number of mixed layer salinity profiles </dd></dl></div><div class='xr-var-data'><pre>[1728000 values with dtype=float32]</pre></div></li></ul></div></li><li class='xr-section-item'><input id='section-e05cd92c-8209-40ea-9871-f1a79b929770' class='xr-section-summary-in' type='checkbox'  checked><label for='section-e05cd92c-8209-40ea-9871-f1a79b929770' class='xr-section-summary' >Attributes: <span>(5)</span></label><div class='xr-section-inline-details'></div><div class='xr-section-details'><dl class='xr-attrs'><dt><span>title :</span></dt><dd>3x3 bin-averaged Mixed Layer Monthly mean (from 2001)</dd><dt><span>Conventions :</span></dt><dd>COARDS\n",
       "GrADS</dd><dt><span>dataType :</span></dt><dd>Grid</dd><dt><span>documentation :</span></dt><dd>http://apdrc.soest.hawaii.edu/projects/Argo/index.html</dd><dt><span>history :</span></dt><dd>Wed Jan 06 09:40:44 HST 2021 : imported by GrADS Data Server 2.0</dd></dl></div></li></ul></div></div>"
      ],
      "text/plain": [
       "<xarray.Dataset>\n",
       "Dimensions:  (lat: 60, lon: 120, time: 240)\n",
       "Coordinates:\n",
       "  * time     (time) object 2001-01-15 00:00:00 ... 2020-12-15 00:00:00\n",
       "  * lat      (lat) float64 -88.5 -85.5 -82.5 -79.5 -76.5 ... 79.5 82.5 85.5 88.5\n",
       "  * lon      (lon) float64 1.5 4.5 7.5 10.5 13.5 ... 349.5 352.5 355.5 358.5\n",
       "Data variables:\n",
       "    mld      (time, lat, lon) float32 ...\n",
       "    smld     (time, lat, lon) float32 ...\n",
       "    nmld     (time, lat, lon) float32 ...\n",
       "    ild      (time, lat, lon) float32 ...\n",
       "    sild     (time, lat, lon) float32 ...\n",
       "    nild     (time, lat, lon) float32 ...\n",
       "    ttd      (time, lat, lon) float32 ...\n",
       "    sttd     (time, lat, lon) float32 ...\n",
       "    nttd     (time, lat, lon) float32 ...\n",
       "    blt      (time, lat, lon) float32 ...\n",
       "    sblt     (time, lat, lon) float32 ...\n",
       "    nblt     (time, lat, lon) float32 ...\n",
       "    tid      (time, lat, lon) float32 ...\n",
       "    stid     (time, lat, lon) float32 ...\n",
       "    ntid     (time, lat, lon) float32 ...\n",
       "    mlt      (time, lat, lon) float32 ...\n",
       "    smlt     (time, lat, lon) float32 ...\n",
       "    nmlt     (time, lat, lon) float32 ...\n",
       "    mls      (time, lat, lon) float32 ...\n",
       "    smls     (time, lat, lon) float32 ...\n",
       "    nmls     (time, lat, lon) float32 ...\n",
       "Attributes:\n",
       "    title:          3x3 bin-averaged Mixed Layer Monthly mean (from 2001)\n",
       "    Conventions:    COARDS\\nGrADS\n",
       "    dataType:       Grid\n",
       "    documentation:  http://apdrc.soest.hawaii.edu/projects/Argo/index.html\n",
       "    history:        Wed Jan 06 09:40:44 HST 2021 : imported by GrADS Data Ser..."
      ]
     },
     "execution_count": 2,
     "metadata": {},
     "output_type": "execute_result"
    }
   ],
   "source": [
    "path = 'http://apdrc.soest.hawaii.edu:80/dods/public_data/Argo_Products/monthly_mean/monthly_mixed_layer'\n",
    "ds = xr.open_dataset(path, use_cftime=True)\n",
    "ds"
   ]
  },
  {
   "cell_type": "code",
   "execution_count": null,
   "metadata": {},
   "outputs": [],
   "source": [
    "ds.load()"
   ]
  },
  {
   "cell_type": "markdown",
   "metadata": {},
   "source": [
    "Lets find out how much the salinity in each grid point changed over the full period (20 years)"
   ]
  },
  {
   "cell_type": "code",
   "execution_count": 3,
   "metadata": {},
   "outputs": [],
   "source": [
    "from xarrayutils.utils import linear_trend"
   ]
  },
  {
   "cell_type": "code",
   "execution_count": null,
   "metadata": {},
   "outputs": [],
   "source": [
    "# create an array \n",
    "salinity_regressed = linear_trend(ds.mls, 'time')\n",
    "salinity_regressed"
   ]
  },
  {
   "cell_type": "markdown",
   "metadata": {},
   "source": [
    "Now we can plot the slope as a map"
   ]
  },
  {
   "cell_type": "code",
   "execution_count": null,
   "metadata": {},
   "outputs": [],
   "source": [
    "salinity_regressed.slope.plot(robust=True)"
   ]
  },
  {
   "cell_type": "markdown",
   "metadata": {},
   "source": [
    "`linear_trend` converts the dimension over which to integrate into logical indicies, so the units of the plot above are (salinity/timestep of the original product), so here PSS/month."
   ]
  },
  {
   "cell_type": "markdown",
   "metadata": {},
   "source": [
    "## Correlation maps"
   ]
  },
  {
   "cell_type": "markdown",
   "metadata": {},
   "source": [
    "But what about a bit more complex task? Lets find out how mixedlayer salinity and temperature correlate. For this we use `xr_linregress` (for which `linear_trend` is just a thin wrapper):"
   ]
  },
  {
   "cell_type": "code",
   "execution_count": null,
   "metadata": {},
   "outputs": [],
   "source": [
    "from xarrayutils.utils import linear_trend, xr_linregress"
   ]
  },
  {
   "cell_type": "code",
   "execution_count": null,
   "metadata": {},
   "outputs": [],
   "source": [
    "tempxsalt = xr_linregress(ds.mlt, ds.mls, dim='time')"
   ]
  },
  {
   "cell_type": "code",
   "execution_count": null,
   "metadata": {},
   "outputs": [],
   "source": [
    "tempxsalt.r_value.plot()"
   ]
  },
  {
   "cell_type": "markdown",
   "metadata": {},
   "source": [
    "This works in any dimension the dataset has:"
   ]
  },
  {
   "cell_type": "code",
   "execution_count": null,
   "metadata": {},
   "outputs": [],
   "source": [
    "tempxsalt = xr_linregress(ds.mlt, ds.mls, dim='lon')"
   ]
  },
  {
   "cell_type": "code",
   "execution_count": null,
   "metadata": {},
   "outputs": [],
   "source": [
    "tempxsalt.r_value.plot(x='time')"
   ]
  },
  {
   "cell_type": "markdown",
   "metadata": {},
   "source": [
    "This map shows that in lower latitudes spatial patterns of salinity are generally anticorrlated with temperature and vice versa in the high latitudes."
   ]
  },
  {
   "cell_type": "markdown",
   "metadata": {},
   "source": [
    "## Hatch sign agreement"
   ]
  },
  {
   "cell_type": "markdown",
   "metadata": {},
   "source": [
    "It can often be useful to indicate if the sign along an averaged (or otherwise aggregated) dimension. For instance to show if forced changes have a consistent sign in reference to a multi-member mean. `sign_agreement` makes this easy. Consider this synthetic example:"
   ]
  },
  {
   "cell_type": "code",
   "execution_count": null,
   "metadata": {},
   "outputs": [],
   "source": [
    "x = np.linspace(-np.pi, np.pi, 25)\n",
    "y = np.linspace(-np.pi, np.pi, 25)\n",
    "xx, yy = np.meshgrid(x,y)\n",
    "\n",
    "data1 = np.sin(xx)\n",
    "data2 = np.sin(yy)\n",
    "data3 = np.ones_like(xx)\n",
    "\n",
    "np.fill_diagonal(data3,np.nan)\n",
    "np.fill_diagonal(data3[1:],np.nan)\n",
    "np.fill_diagonal(data3[:,1:],np.nan)\n",
    "np.fill_diagonal(data3[:,2:],np.nan)\n",
    "\n",
    "da = xr.DataArray(np.array([data1, data2, data3]), dims=['member','x', 'y'])\n",
    "\n",
    "da.plot(col='member')"
   ]
  },
  {
   "cell_type": "markdown",
   "metadata": {},
   "source": [
    "Taking the mean of these fields, suggests that values increase in the upper-left, upper-right, lower-right quadrant, and the missing values in the third layer distort the mean."
   ]
  },
  {
   "cell_type": "code",
   "execution_count": null,
   "metadata": {},
   "outputs": [],
   "source": [
    "da.mean('member').plot()"
   ]
  },
  {
   "cell_type": "markdown",
   "metadata": {},
   "source": [
    "Lets produce a mask to see where all elements along the `member` dimension have the same sign:"
   ]
  },
  {
   "cell_type": "code",
   "execution_count": null,
   "metadata": {},
   "outputs": [],
   "source": [
    "from xarrayutils.utils import sign_agreement\n",
    "\n",
    "sign_agreement(da, da.mean('member'), 'member', threshold=1.0).plot()"
   ]
  },
  {
   "cell_type": "markdown",
   "metadata": {},
   "source": [
    "You could use this information to indicate the areas of the average, where the members do not agree by hatching:"
   ]
  },
  {
   "cell_type": "code",
   "execution_count": null,
   "metadata": {},
   "outputs": [],
   "source": [
    "da.mean('member').plot()\n",
    "sign_agreement(\n",
    "    da, da.mean('member'), 'member'\n",
    ").plot.contourf(\n",
    "    colors='none',\n",
    "    hatches=['..', None],\n",
    "    levels=[0,0.5],\n",
    "    add_colorbar=False\n",
    ")"
   ]
  },
  {
   "cell_type": "markdown",
   "metadata": {},
   "source": [
    "## Masking values in the mixed layer\n",
    "\n",
    "Sometimes it is helpful to analyze data by excluding the values in the mixed layer. This can be easily done with `mask_mixedlayer`. Let's see how:\n",
    "\n",
    "First load a CMIP6 dataset from the cloud"
   ]
  },
  {
   "cell_type": "code",
   "execution_count": null,
   "metadata": {},
   "outputs": [],
   "source": [
    "import intake\n",
    "url = \"https://raw.githubusercontent.com/NCAR/intake-esm-datastore/master/catalogs/pangeo-cmip6.json\"\n",
    "col = intake.open_esm_datastore(url)\n",
    "cat = col.search(\n",
    "    table_id='Omon',\n",
    "    grid_label='gn',\n",
    "    experiment_id='historical',\n",
    "    member_id='r1i1p1f1',\n",
    "    variable_id=['thetao','mlotst'],#, \n",
    "    source_id=[\"ACCESS-ESM1-5\"]\n",
    ")\n",
    "ddict = cat.to_dataset_dict(\n",
    "    zarr_kwargs={'consolidated':True, 'decode_times':True},\n",
    ")"
   ]
  },
  {
   "cell_type": "code",
   "execution_count": null,
   "metadata": {},
   "outputs": [],
   "source": [
    "ds = ddict['CMIP.CSIRO.ACCESS-ESM1-5.historical.Omon.gn']\n",
    "ds"
   ]
  },
  {
   "cell_type": "markdown",
   "metadata": {},
   "source": [
    "We can remove the values in the mixed layer"
   ]
  },
  {
   "cell_type": "code",
   "execution_count": null,
   "metadata": {},
   "outputs": [],
   "source": [
    "from xarrayutils.utils import mask_mixedlayer\n",
    "ds_wo_ml = mask_mixedlayer(ds, ds.mlotst)\n",
    "ds_wo_ml"
   ]
  },
  {
   "cell_type": "markdown",
   "metadata": {},
   "source": [
    "Or to have the mixed layer values only"
   ]
  },
  {
   "cell_type": "code",
   "execution_count": null,
   "metadata": {},
   "outputs": [],
   "source": [
    "from xarrayutils.utils import mask_mixedlayer\n",
    "ds_ml_only = mask_mixedlayer(ds, ds.mlotst, mask='inside')\n",
    "ds_ml_only"
   ]
  },
  {
   "cell_type": "code",
   "execution_count": null,
   "metadata": {},
   "outputs": [],
   "source": [
    "import matplotlib.pyplot as plt\n",
    "roi = dict(i=150, time=0, j=slice(50, 200))\n",
    "plt.figure(figsize=[10, 15])\n",
    "for di, (data, label) in enumerate(zip([ds, ds_wo_ml, ds_ml_only], ['full data', 'mixed layer removed', 'mixed layer only'])):\n",
    "    plt.subplot(3,1,di+1)\n",
    "    data.thetao.isel(lev=slice(0,20),**roi).plot(yincrease=False)\n",
    "    ds.mlotst.isel(**roi).plot(x='j')\n",
    "    plt.title(label)"
   ]
  },
  {
   "cell_type": "markdown",
   "metadata": {},
   "source": [
    "In this case the cell bounds are not available for the model output, but `mask_mixedlayer` has the option to take those into account and e.g. remove cells only if the lower boundary is within the mixed layer. All you need to do is correctly specify `z_bounds` with the variable/coordinate name of the cell bounds."
   ]
  },
  {
   "cell_type": "markdown",
   "metadata": {},
   "source": [
    "## Removing bottom values\n",
    "\n"
   ]
  },
  {
   "cell_type": "code",
   "execution_count": null,
   "metadata": {},
   "outputs": [],
   "source": []
  }
 ],
 "metadata": {
  "kernelspec": {
   "display_name": "Python 3",
   "language": "python",
   "name": "python3"
  },
  "language_info": {
   "codemirror_mode": {
    "name": "ipython",
    "version": 3
   },
   "file_extension": ".py",
   "mimetype": "text/x-python",
   "name": "python",
   "nbconvert_exporter": "python",
   "pygments_lexer": "ipython3",
   "version": "3.8.6"
  }
 },
 "nbformat": 4,
 "nbformat_minor": 4
}
